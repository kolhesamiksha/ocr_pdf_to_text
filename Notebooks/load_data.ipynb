{
 "cells": [
  {
   "cell_type": "code",
   "execution_count": 20,
   "id": "4e5ece8e-aa31-4829-9f87-83605ca3e9a8",
   "metadata": {},
   "outputs": [],
   "source": [
    "import pandas as pd\n",
    "import numpy as np\n",
    "from minio import Minio"
   ]
  },
  {
   "cell_type": "code",
   "execution_count": 2,
   "id": "85040477-0827-4106-ac0d-b84dddaf1560",
   "metadata": {},
   "outputs": [],
   "source": [
    "ACCESS_KEY = \"DNPD2SAYLBELJ423HCNU\"\n",
    "SECRET_KEY = \"zF7F6W93HS8vt+JKen4U17+zhcHiwH47AMuO3ap0\"\n",
    "PUBLIC_BUCKET = \"shared-storage\"\n",
    "\n",
    "client = Minio(\n",
    "        endpoint=\"minio-server.default.svc.cluster.local:9000\",\n",
    "        access_key=ACCESS_KEY,\n",
    "        secret_key=SECRET_KEY,\n",
    "        secure=False,\n",
    "    )"
   ]
  },
  {
   "cell_type": "code",
   "execution_count": 4,
   "id": "c67cf0b6-0d14-4d86-ac7a-81adcb92db65",
   "metadata": {},
   "outputs": [
    {
     "data": {
      "text/plain": [
       "<minio.datatypes.Object at 0x7faef43b4af0>"
      ]
     },
     "execution_count": 4,
     "metadata": {},
     "output_type": "execute_result"
    }
   ],
   "source": []
  },
  {
   "cell_type": "code",
   "execution_count": 15,
   "id": "8c2f8ebc-6573-4cb0-abe3-b95080da740a",
   "metadata": {},
   "outputs": [
    {
     "name": "stdout",
     "output_type": "stream",
     "text": [
      "pdf-to-text/Sample_Scanned_PDF.pdf\n",
      "pdf-to-text/image.pdf\n",
      "pdf-to-text/invoice.pdf\n",
      "pdf-to-text/test_invoice.pdf\n"
     ]
    },
    {
     "data": {
      "text/plain": [
       "['pdf-to-text/Sample_Scanned_PDF.pdf',\n",
       " 'pdf-to-text/image.pdf',\n",
       " 'pdf-to-text/invoice.pdf',\n",
       " 'pdf-to-text/test_invoice.pdf']"
      ]
     },
     "execution_count": 15,
     "metadata": {},
     "output_type": "execute_result"
    }
   ],
   "source": [
    "objects = client.list_objects(PUBLIC_BUCKET, prefix=\"pdf-to-text/\")\n",
    "lst = []\n",
    "for obj in objects:\n",
    "    print(obj.object_name)\n",
    "    lst.append(obj.object_name)\n",
    "lst"
   ]
  },
  {
   "cell_type": "code",
   "execution_count": 18,
   "id": "d687bb44-39c8-43fb-9c92-652db27bea9a",
   "metadata": {},
   "outputs": [
    {
     "data": {
      "text/plain": [
       "['Sample_Scanned_PDF.pdf', 'image.pdf', 'invoice.pdf', 'test_invoice.pdf']"
      ]
     },
     "execution_count": 18,
     "metadata": {},
     "output_type": "execute_result"
    }
   ],
   "source": [
    "obj_names = []\n",
    "for obj in lst:\n",
    "    split_objs= obj.split('/')\n",
    "    obj_names.append(split_objs[1])\n",
    "obj_names"
   ]
  },
  {
   "cell_type": "code",
   "execution_count": 21,
   "id": "c4fc731a-82ac-4f1b-893e-2a82987e8462",
   "metadata": {},
   "outputs": [],
   "source": [
    "for objects in obj_names:\n",
    "    minio_data = f'pdf-to-text/{objects}'\n",
    "    client.fget_object(\n",
    "        PUBLIC_BUCKET,\n",
    "        minio_data,\n",
    "        f'minio_inputs/{objects}'\n",
    "    )"
   ]
  },
  {
   "cell_type": "code",
   "execution_count": null,
   "id": "d25980eb-0fe7-4ffd-8da8-95b79d2b209a",
   "metadata": {},
   "outputs": [],
   "source": []
  }
 ],
 "metadata": {
  "kernelspec": {
   "display_name": "Python 3 (ipykernel)",
   "language": "python",
   "name": "python3"
  },
  "language_info": {
   "codemirror_mode": {
    "name": "ipython",
    "version": 3
   },
   "file_extension": ".py",
   "mimetype": "text/x-python",
   "name": "python",
   "nbconvert_exporter": "python",
   "pygments_lexer": "ipython3",
   "version": "3.9.7"
  }
 },
 "nbformat": 4,
 "nbformat_minor": 5
}
