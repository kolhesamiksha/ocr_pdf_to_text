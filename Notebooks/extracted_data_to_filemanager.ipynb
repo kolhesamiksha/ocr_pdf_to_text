{
 "cells": [
  {
   "cell_type": "code",
   "execution_count": 2,
   "id": "50254a7f-9978-4515-ae4f-2a68dbcebdf2",
   "metadata": {},
   "outputs": [],
   "source": [
    "import pandas as pd\n",
    "import numpy as np\n",
    "from minio import Minio\n",
    "import os"
   ]
  },
  {
   "cell_type": "code",
   "execution_count": 3,
   "id": "b2ddd3de-8b1a-42be-9784-31da901fa1c0",
   "metadata": {},
   "outputs": [],
   "source": [
    "ACCESS_KEY = \"DNPD2SAYLBELJ423HCNU\"\n",
    "SECRET_KEY = \"zF7F6W93HS8vt+JKen4U17+zhcHiwH47AMuO3ap0\"\n",
    "PUBLIC_BUCKET = \"shared-storage\"\n",
    "\n",
    "client = Minio(\n",
    "        endpoint=\"minio-server.default.svc.cluster.local:9000\",\n",
    "        access_key=ACCESS_KEY,\n",
    "        secret_key=SECRET_KEY,\n",
    "        secure=False,\n",
    "    )"
   ]
  },
  {
   "cell_type": "code",
   "execution_count": 4,
   "id": "8739a95a-1ed7-42a6-8310-43f4abb557b7",
   "metadata": {},
   "outputs": [
    {
     "data": {
      "text/plain": [
       "[['Sample_Scanned_PDF.txt', 'image.txt', 'test_invoice.txt', 'invoice.txt']]"
      ]
     },
     "execution_count": 4,
     "metadata": {},
     "output_type": "execute_result"
    }
   ],
   "source": [
    "dir1 = 'minio_outputs/'\n",
    "lst = []\n",
    "for i in os.walk(dir1):\n",
    "    lst.append(i[2])\n",
    "lst"
   ]
  },
  {
   "cell_type": "code",
   "execution_count": 7,
   "id": "a3184da5-78aa-4cb8-956e-b2232a53fe81",
   "metadata": {},
   "outputs": [
    {
     "name": "stdout",
     "output_type": "stream",
     "text": [
      "Sample_Scanned_PDF.txt\n",
      "image.txt\n",
      "test_invoice.txt\n",
      "invoice.txt\n"
     ]
    }
   ],
   "source": [
    "for put_obj in lst[0]:\n",
    "    print(put_obj)"
   ]
  },
  {
   "cell_type": "code",
   "execution_count": 8,
   "id": "75f3719b-8879-4065-8d47-ed187ddffaf4",
   "metadata": {},
   "outputs": [],
   "source": [
    "for put_obj in lst[0]:\n",
    "    extr_data = f'pdf_to-text_pipeline_output/{put_obj}'\n",
    "    client.fput_object(\n",
    "        PUBLIC_BUCKET,\n",
    "        extr_data,\n",
    "        f'minio_outputs/{put_obj}'\n",
    "    )"
   ]
  },
  {
   "cell_type": "code",
   "execution_count": null,
   "id": "93e84629-0ef5-4f6d-be5a-48740645ec73",
   "metadata": {},
   "outputs": [],
   "source": []
  },
  {
   "cell_type": "code",
   "execution_count": null,
   "id": "3c05320d-bc84-49ed-9f55-d55ee2b8d7e7",
   "metadata": {},
   "outputs": [],
   "source": []
  }
 ],
 "metadata": {
  "kernelspec": {
   "display_name": "Python 3 (ipykernel)",
   "language": "python",
   "name": "python3"
  },
  "language_info": {
   "codemirror_mode": {
    "name": "ipython",
    "version": 3
   },
   "file_extension": ".py",
   "mimetype": "text/x-python",
   "name": "python",
   "nbconvert_exporter": "python",
   "pygments_lexer": "ipython3",
   "version": "3.9.7"
  }
 },
 "nbformat": 4,
 "nbformat_minor": 5
}
